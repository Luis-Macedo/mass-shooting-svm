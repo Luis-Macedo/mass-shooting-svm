{
 "cells": [
  {
   "cell_type": "markdown",
   "id": "11aa0577",
   "metadata": {},
   "source": [
    "# Mass shooting in USA - Historical data"
   ]
  },
  {
   "cell_type": "markdown",
   "id": "f38d440e",
   "metadata": {},
   "source": [
    "## Importing dataset and pandas"
   ]
  },
  {
   "cell_type": "code",
   "execution_count": 1,
   "id": "1919548c",
   "metadata": {},
   "outputs": [],
   "source": [
    "%matplotlib inline"
   ]
  },
  {
   "cell_type": "code",
   "execution_count": 2,
   "id": "650189e0",
   "metadata": {},
   "outputs": [],
   "source": [
    "import pandas as pd\n",
    "import numpy as np\n",
    "import seaborn as sns\n",
    "import matplotlib.pyplot as plt\n",
    "from sklearn.model_selection import train_test_split\n",
    "from sklearn import svm, metrics\n",
    "\n",
    "file_name = 'mass_shooting.csv'\n",
    "data = pd.read_csv(file_name)"
   ]
  },
  {
   "cell_type": "markdown",
   "id": "12d6101c",
   "metadata": {},
   "source": [
    "### Dataset registration quantity"
   ]
  },
  {
   "cell_type": "code",
   "execution_count": 3,
   "id": "af5f61be",
   "metadata": {},
   "outputs": [
    {
     "data": {
      "text/plain": [
       "Date           2712\n",
       "City           2712\n",
       "State          2712\n",
       "Dead           2712\n",
       "Injured        2712\n",
       "Total          2712\n",
       "Description    2712\n",
       "dtype: int64"
      ]
     },
     "execution_count": 3,
     "metadata": {},
     "output_type": "execute_result"
    }
   ],
   "source": [
    "data.count()"
   ]
  },
  {
   "cell_type": "markdown",
   "id": "aee0d1df",
   "metadata": {},
   "source": [
    "### Counting death incidents (percentage)"
   ]
  },
  {
   "cell_type": "code",
   "execution_count": 4,
   "id": "e361ed2e",
   "metadata": {},
   "outputs": [
    {
     "data": {
      "text/plain": [
       "0     43.104720\n",
       "1     28.355457\n",
       "2     11.873156\n",
       "3      5.752212\n",
       "4      4.092920\n",
       "5      2.323009\n",
       "6      1.438053\n",
       "7      0.884956\n",
       "8      0.516224\n",
       "10     0.331858\n",
       "9      0.331858\n",
       "13     0.184366\n",
       "11     0.110619\n",
       "22     0.073746\n",
       "17     0.073746\n",
       "14     0.073746\n",
       "15     0.073746\n",
       "23     0.036873\n",
       "27     0.036873\n",
       "61     0.036873\n",
       "50     0.036873\n",
       "16     0.036873\n",
       "28     0.036873\n",
       "12     0.036873\n",
       "33     0.036873\n",
       "24     0.036873\n",
       "43     0.036873\n",
       "20     0.036873\n",
       "Name: Dead, dtype: float64"
      ]
     },
     "execution_count": 4,
     "metadata": {},
     "output_type": "execute_result"
    }
   ],
   "source": [
    "data['Dead'].value_counts() * 100 / data['Dead'].count()"
   ]
  },
  {
   "cell_type": "markdown",
   "id": "89e80599",
   "metadata": {},
   "source": [
    "### State presence in our dataset"
   ]
  },
  {
   "cell_type": "code",
   "execution_count": 5,
   "id": "0b1f01d7",
   "metadata": {},
   "outputs": [
    {
     "data": {
      "text/plain": [
       "Illinois                          10.103245\n",
       "California                         8.185841\n",
       "Texas                              7.558997\n",
       "Florida                            5.051622\n",
       "Pennsylvania                       4.646018\n",
       "New York                           4.646018\n",
       "Louisiana                          4.461652\n",
       "Ohio                               3.650442\n",
       "Michigan                           3.392330\n",
       "Georgia                            3.392330\n",
       "North Carolina                     3.244838\n",
       "Missouri                           2.949853\n",
       "Maryl                              2.839233\n",
       "Tennessee                          2.691740\n",
       "South Carolina                     2.691740\n",
       "Alabama                            2.581121\n",
       "Virginia                           2.175516\n",
       "Indiana                            2.028024\n",
       "New Jersey                         1.991150\n",
       "Mississippi                        1.917404\n",
       "Colorado                           1.880531\n",
       "Wisconsin                          1.548673\n",
       "Washington                         1.438053\n",
       "Arkansas                           1.290560\n",
       "Washington D.C.                    1.253687\n",
       "Kentucky                           1.179941\n",
       "Arizona                            1.106195\n",
       "Minnesota                          1.106195\n",
       "Nevada                             0.848083\n",
       "Oregon                             0.811209\n",
       "Massachusetts                      0.811209\n",
       "Oklahoma                           0.774336\n",
       "Connecticut                        0.737463\n",
       "Iowa                               0.700590\n",
       "New Mexico                         0.700590\n",
       "Kansas                             0.516224\n",
       "Delaware                           0.479351\n",
       "Nebraska                           0.368732\n",
       "Utah                               0.294985\n",
       "United States Virgin Isls          0.258112\n",
       "Alaska                             0.258112\n",
       "District of Columbia               0.184366\n",
       "West Virginia                      0.184366\n",
       "Hawaii                             0.147493\n",
       "Puerto Rico                        0.147493\n",
       "Rhode Isl                          0.110619\n",
       "Montana                            0.110619\n",
       "South Dakota                       0.073746\n",
       "Idaho                              0.073746\n",
       "New Hampshire                      0.036873\n",
       "Peoria                             0.036873\n",
       "Maine                              0.036873\n",
       "Wyoming                            0.036873\n",
       "Santa Ana                          0.036873\n",
       "Northern Mariana Isls              0.036873\n",
       "Samson                             0.036873\n",
       "Colorado Springs                   0.036873\n",
       "Lancaster County                   0.036873\n",
       "Robinson Township                  0.036873\n",
       "Pennsylvania  Jenkins Township     0.036873\n",
       "Name: State, dtype: float64"
      ]
     },
     "execution_count": 5,
     "metadata": {},
     "output_type": "execute_result"
    }
   ],
   "source": [
    "data['State'].value_counts() * 100 / data['State'].count()"
   ]
  },
  {
   "cell_type": "markdown",
   "id": "6145aab7",
   "metadata": {},
   "source": [
    "### Plotting death counts"
   ]
  },
  {
   "cell_type": "code",
   "execution_count": 6,
   "id": "71865724",
   "metadata": {},
   "outputs": [
    {
     "data": {
      "text/plain": [
       "<AxesSubplot:>"
      ]
     },
     "execution_count": 6,
     "metadata": {},
     "output_type": "execute_result"
    },
    {
     "data": {
      "image/png": "[encoded data removed]",
      "text/plain": [
       "<Figure size 432x288 with 1 Axes>"
      ]
     },
     "metadata": {
      "needs_background": "light"
     },
     "output_type": "display_data"
    }
   ],
   "source": [
    "death_bins = [1, 2, 4, 6, 8, 10, 12, 14, 16, 18, 20]\n",
    "data['DeathBin']=pd.cut(data['Dead'], death_bins)\n",
    "data['DeathBin'].value_counts().sort_index().plot(kind='bar')"
   ]
  },
  {
   "cell_type": "markdown",
   "id": "5fd32857",
   "metadata": {},
   "source": [
    "## Plotting death per year"
   ]
  },
  {
   "cell_type": "markdown",
   "id": "78cbd6c2",
   "metadata": {},
   "source": [
    "#### Formatting date"
   ]
  },
  {
   "cell_type": "code",
   "execution_count": 7,
   "id": "99fbdb1e",
   "metadata": {},
   "outputs": [
    {
     "data": {
      "text/plain": [
       "0       2022\n",
       "1       2022\n",
       "2       2022\n",
       "3       2022\n",
       "4       2022\n",
       "        ... \n",
       "2707    1933\n",
       "2708    1929\n",
       "2709    1929\n",
       "2710    1927\n",
       "2711    1924\n",
       "Name: Year, Length: 2712, dtype: int64"
      ]
     },
     "execution_count": 7,
     "metadata": {},
     "output_type": "execute_result"
    }
   ],
   "source": [
    "data['Date']=pd.to_datetime(data['Date'], format='%d-%m-%Y')\n",
    "data['Year']=pd.DatetimeIndex(data['Date']).year\n",
    "data['Month']=pd.DatetimeIndex(data['Date']).month\n",
    "data['Year']"
   ]
  },
  {
   "cell_type": "markdown",
   "id": "c55604b2",
   "metadata": {},
   "source": [
    "### (Between 1990 - 2000)"
   ]
  },
  {
   "cell_type": "code",
   "execution_count": 8,
   "id": "8dad8b31",
   "metadata": {},
   "outputs": [
    {
     "data": {
      "text/plain": [
       "<AxesSubplot:>"
      ]
     },
     "execution_count": 8,
     "metadata": {},
     "output_type": "execute_result"
    },
    {
     "data": {
      "image/png": "[encoded data removed]",
      "text/plain": [
       "<Figure size 432x288 with 1 Axes>"
      ]
     },
     "metadata": {
      "needs_background": "light"
     },
     "output_type": "display_data"
    }
   ],
   "source": [
    "data[(data['Dead']>0) & (data['Year']<=2000) & (data['Year']>=1990)]['Year'].value_counts().sort_index().plot(\n",
    "    kind='bar'\n",
    ")"
   ]
  },
  {
   "cell_type": "markdown",
   "id": "f58ba34e",
   "metadata": {},
   "source": [
    "### (Between 2000 - 2022)"
   ]
  },
  {
   "cell_type": "code",
   "execution_count": 9,
   "id": "f696c95d",
   "metadata": {},
   "outputs": [
    {
     "data": {
      "text/plain": [
       "<AxesSubplot:>"
      ]
     },
     "execution_count": 9,
     "metadata": {},
     "output_type": "execute_result"
    },
    {
     "data": {
      "image/png": "[encoded data removed]",
      "text/plain": [
       "<Figure size 432x288 with 1 Axes>"
      ]
     },
     "metadata": {
      "needs_background": "light"
     },
     "output_type": "display_data"
    }
   ],
   "source": [
    "data[(data['Dead']>0) & (data['Year']>=2000)]['Year'].value_counts().sort_index().plot(kind='bar')"
   ]
  },
  {
   "cell_type": "markdown",
   "id": "35661b83",
   "metadata": {},
   "source": [
    "## Splitting data"
   ]
  },
  {
   "cell_type": "markdown",
   "id": "4b488990",
   "metadata": {},
   "source": [
    "#### Reshaping data to fit\n",
    "#### data.Dead will no longer be of type series\n",
    "#### For training, we need 2D array types"
   ]
  },
  {
   "cell_type": "code",
   "execution_count": 10,
   "id": "a20d2ebb",
   "metadata": {},
   "outputs": [
    {
     "data": {
      "text/plain": [
       "0        1\n",
       "1        0\n",
       "2        0\n",
       "3        1\n",
       "4        0\n",
       "        ..\n",
       "2707     5\n",
       "2708     7\n",
       "2709     7\n",
       "2710     6\n",
       "2711    20\n",
       "Name: Dead, Length: 2712, dtype: int64"
      ]
     },
     "execution_count": 10,
     "metadata": {},
     "output_type": "execute_result"
    }
   ],
   "source": [
    "data['Dead'] = data['Dead'].astype(int)\n",
    "data['Dead']"
   ]
  },
  {
   "cell_type": "code",
   "execution_count": 11,
   "id": "d7f9431a",
   "metadata": {},
   "outputs": [
    {
     "name": "stderr",
     "output_type": "stream",
     "text": [
      "/tmp/ipykernel_12534/2544401996.py:3: SettingWithCopyWarning: \n",
      "A value is trying to be set on a copy of a slice from a DataFrame\n",
      "\n",
      "See the caveats in the documentation: https://pandas.pydata.org/pandas-docs/stable/user_guide/indexing.html#returning-a-view-versus-a-copy\n",
      "  data['Mass-murder'][data['Dead'] <= 10] = 0\n",
      "/tmp/ipykernel_12534/2544401996.py:4: SettingWithCopyWarning: \n",
      "A value is trying to be set on a copy of a slice from a DataFrame\n",
      "\n",
      "See the caveats in the documentation: https://pandas.pydata.org/pandas-docs/stable/user_guide/indexing.html#returning-a-view-versus-a-copy\n",
      "  data['Mass-murder'][data['Dead'] > 10] = 1\n"
     ]
    },
    {
     "data": {
      "text/plain": [
       "0       0\n",
       "1       0\n",
       "2       0\n",
       "3       0\n",
       "4       0\n",
       "       ..\n",
       "2707    0\n",
       "2708    0\n",
       "2709    0\n",
       "2710    0\n",
       "2711    1\n",
       "Name: Mass-murder, Length: 2712, dtype: int64"
      ]
     },
     "execution_count": 11,
     "metadata": {},
     "output_type": "execute_result"
    }
   ],
   "source": [
    "data['Mass-murder'] = data['Dead']\n",
    "\n",
    "data['Mass-murder'][data['Dead'] <= 10] = 0\n",
    "data['Mass-murder'][data['Dead'] > 10] = 1\n",
    "\n",
    "data['Mass-murder']"
   ]
  },
  {
   "cell_type": "code",
   "execution_count": 12,
   "id": "8813179a",
   "metadata": {},
   "outputs": [],
   "source": [
    "x = data[['Year', 'Dead']].values.tolist()\n",
    "x = np.array(x)\n",
    "y = data['Mass-murder']\n",
    "\n",
    "x = x[:len(x)]\n",
    "y = y[:len(y)]"
   ]
  },
  {
   "cell_type": "code",
   "execution_count": 13,
   "id": "24eab060",
   "metadata": {},
   "outputs": [],
   "source": [
    "X_train, X_test, y_train, y_test = train_test_split(\n",
    "    x, y, test_size=0.3, random_state = 0\n",
    ")"
   ]
  },
  {
   "cell_type": "markdown",
   "id": "b8cb54d9",
   "metadata": {},
   "source": [
    "### Generating model"
   ]
  },
  {
   "cell_type": "code",
   "execution_count": 14,
   "id": "1488cde5",
   "metadata": {},
   "outputs": [],
   "source": [
    "clf = svm.SVC(kernel='linear', random_state = 0)\n",
    "clf.fit(X_train, y_train)\n",
    "y_pred = clf.predict(X_test)"
   ]
  },
  {
   "cell_type": "markdown",
   "id": "58199f49",
   "metadata": {},
   "source": [
    "### Evaluating the model (Accuracy)"
   ]
  },
  {
   "cell_type": "code",
   "execution_count": 15,
   "id": "64810c9b",
   "metadata": {},
   "outputs": [
    {
     "name": "stdout",
     "output_type": "stream",
     "text": [
      "Accuracy: 1.0\n"
     ]
    }
   ],
   "source": [
    "print('Accuracy:', metrics.accuracy_score(y_test, y_pred))"
   ]
  },
  {
   "cell_type": "markdown",
   "id": "e2f0bcc7",
   "metadata": {},
   "source": [
    "### Evaluating the model (Precision)"
   ]
  },
  {
   "cell_type": "code",
   "execution_count": 16,
   "id": "610852ff",
   "metadata": {},
   "outputs": [
    {
     "name": "stdout",
     "output_type": "stream",
     "text": [
      "Precision: 1.0\n"
     ]
    }
   ],
   "source": [
    "print('Precision:', metrics.precision_score(y_test, y_pred))"
   ]
  },
  {
   "cell_type": "markdown",
   "id": "f3770935",
   "metadata": {},
   "source": [
    "### Evaluating the model (Recall)"
   ]
  },
  {
   "cell_type": "code",
   "execution_count": 17,
   "id": "af6f014e",
   "metadata": {},
   "outputs": [
    {
     "name": "stdout",
     "output_type": "stream",
     "text": [
      "Recall: 1.0\n"
     ]
    }
   ],
   "source": [
    "print('Recall:', metrics.recall_score(y_test, y_pred))"
   ]
  },
  {
   "cell_type": "markdown",
   "id": "2045b35c",
   "metadata": {},
   "source": [
    "### Plotting our train"
   ]
  },
  {
   "cell_type": "code",
   "execution_count": 18,
   "id": "6cb1fff7",
   "metadata": {},
   "outputs": [
    {
     "data": {
      "image/png": "[encoded data removed]",
      "text/plain": [
       "<Figure size 720x576 with 1 Axes>"
      ]
     },
     "metadata": {
      "needs_background": "light"
     },
     "output_type": "display_data"
    }
   ],
   "source": [
    "\n",
    "plt.figure(figsize=(10, 8))\n",
    "\n",
    "sns.scatterplot(x=X_train[:, 0], \n",
    "                y=X_train[:, 1], \n",
    "                hue=y_train, \n",
    "                s=8);\n",
    "# Constructing a hyperplane using a formula.\n",
    "w = clf.coef_[0]           # w consists of 2 elements\n",
    "b = clf.intercept_[0]      # b consists of 1 element\n",
    "x_points = np.linspace(np.min(x[:len(x), 0]), np.max(x[:len(x), 0])) # generating x-points from -1 to 1\n",
    "y_points = -(w[0] / w[1]) * x_points - b / w[1]  # getting corresponding y-points\n",
    "# Plotting a red hyperplane\n",
    "plt.plot(x_points, y_points, c='r');"
   ]
  }
 ],
 "metadata": {
  "kernelspec": {
   "display_name": "Python 3 (ipykernel)",
   "language": "python",
   "name": "python3"
  },
  "language_info": {
   "codemirror_mode": {
    "name": "ipython",
    "version": 3
   },
   "file_extension": ".py",
   "mimetype": "text/x-python",
   "name": "python",
   "nbconvert_exporter": "python",
   "pygments_lexer": "ipython3",
   "version": "3.9.12"
  }
 },
 "nbformat": 4,
 "nbformat_minor": 5
}
